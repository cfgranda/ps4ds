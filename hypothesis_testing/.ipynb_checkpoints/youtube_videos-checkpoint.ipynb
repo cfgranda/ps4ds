{
 "cells": [
  {
   "cell_type": "markdown",
   "id": "78008e12-c42e-47a6-9c29-5519a81dc481",
   "metadata": {},
   "source": [
    "Material for the book [Probability and Statistics for Data Science](https://a.co/d/cAss9mO). A free preprint, videos, code, slides and solutions to exercises are available at https://www.ps4ds.net/\n",
    "\n",
    "Code for the video Do UPPER CASE TITLES get more views? Causal inference, outliers and hypothesis testing\n",
    "\n",
    "Analysis of YouTube video data acquired after randomizing the capitalization of the titles, which shows that there is not a statistically significant difference between the videos with upper-case and mixed-case titles.\\\n",
    "Topics: [Causal inference](https://youtu.be/rjM2PCCDAUY?si=BDdEGz2pzKcJcQFf), [sensitivity of the mean to outliers](https://www.youtube.com/watch?v=Mgbphvi_E58), [permutation test, nonparametric testing](https://www.youtube.com/watch?v=frSkAi36qd0)\n",
    "\n",
    "Author: Carlos Fernandez-Granda"
   ]
  },
  {
   "cell_type": "code",
   "execution_count": 1,
   "id": "3337389e-30ac-456f-a87c-92cac6b3bc6f",
   "metadata": {},
   "outputs": [],
   "source": [
    "import numpy as np\n",
    "import csv\n",
    "import urllib.request\n",
    "import io\n",
    "import matplotlib.pyplot as plt \n",
    "import random\n",
    "import time\n",
    "\n",
    "font_size = 15\n",
    "font_size_legend = 15\n",
    "font_size_ticks = 15"
   ]
  },
  {
   "cell_type": "code",
   "execution_count": 3,
   "id": "0599b007-d8df-40e8-acdd-b0cdfdc4a3e7",
   "metadata": {},
   "outputs": [
    {
     "name": "stdout",
     "output_type": "stream",
     "text": [
      "All views: [3523. 2240. 1483. 1330. 1013.  950.  852.  761.  718.  700.  669.  657.\n",
      "  654.  616.  616.  610.  588.  581.  578.  549.  539.  537.  530.  507.\n",
      "  503.  489.  479.  474.  447.  444.  444.  442.  442.  441.  419.  412.\n",
      "  408.  406.  401.  385.  380.  375.  372.  367.  359.  341.  336.  335.\n",
      "  329.  316.  301.  299.  281.  281.  279.  266.  261.  256.  251.  249.\n",
      "  246.  244.  236.  214.  212.  198.  189.  184.  181.  178.  175.  174.\n",
      "  173.  169.  169.  167.  166.  162.  160.  160.  156.  146.  145.  142.\n",
      "  131.  125.  121.  112.  109.   95.   91.   85.   75.   71.   69.   68.\n",
      "   67.   65.   64.   59.   58.   56.   53.   48.   48.   44.   43.   41.\n",
      "   39.   38.   37.   32.   31.   29.   29.   28.   21.]\n",
      "Uppercase only views: [2240. 1483. 1330. 1013.  950.  761.  700.  616.  616.  578.  549.  447.\n",
      "  444.  442.  441.  419.  408.  401.  380.  375.  367.  336.  335.  316.\n",
      "  279.  266.  261.  249.  244.  214.  212.  198.  181.  174.  173.  162.\n",
      "  160.  146.  145.  142.  112.  109.   95.   75.   71.   68.   67.   64.\n",
      "   58.   56.   53.   48.   48.   44.   41.   39.   38.   31.]\n",
      "Mixed case views: [3523.  852.  718.  669.  657.  654.  610.  588.  581.  539.  537.  530.\n",
      "  507.  503.  489.  479.  474.  444.  442.  412.  406.  385.  372.  359.\n",
      "  341.  329.  301.  299.  281.  281.  256.  251.  246.  236.  189.  184.\n",
      "  178.  175.  169.  169.  167.  166.  160.  156.  131.  125.  121.   91.\n",
      "   85.   69.   65.   59.   43.   37.   32.   29.   29.   28.   21.]\n"
     ]
    }
   ],
   "source": [
    "# Raw GitHub URL\n",
    "url = \"https://raw.githubusercontent.com/cfgranda/ps4ds/main/data/youtube_videos.csv\"\n",
    "\n",
    "# Initialize lists to store values\n",
    "all_views = []\n",
    "uppercase_only_views = []\n",
    "mixed_case_views = []\n",
    "\n",
    "# Read the CSV file\n",
    "with urllib.request.urlopen(url) as response:\n",
    "    f = io.TextIOWrapper(response, encoding='utf-8')\n",
    "    reader = csv.reader(f)\n",
    "    next(reader)  # Skip the header row\n",
    "    \n",
    "    for row in reader:\n",
    "\n",
    "        string_part = row[0].strip()\n",
    "        view_part = float(row[1])\n",
    "        \n",
    "        # Add to the general list of views\n",
    "        all_views.append(view_part)\n",
    "\n",
    "        # Classify the string and append accordingly\n",
    "        if string_part.isupper():\n",
    "            uppercase_only_views.append(view_part)\n",
    "        elif any(c.islower() for c in string_part) and any(c.isupper() for c in string_part):\n",
    "            mixed_case_views.append(view_part)\n",
    "\n",
    "# Convert lists to numpy arrays\n",
    "all_views = np.array(all_views)\n",
    "uppercase_only_views = np.array(uppercase_only_views)\n",
    "mixed_case_views = np.array(mixed_case_views)\n",
    "\n",
    "# Output for debugging (optional)\n",
    "print(\"All views:\", all_views)\n",
    "print(\"Uppercase only views:\", uppercase_only_views)\n",
    "print(\"Mixed case views:\", mixed_case_views)"
   ]
  },
  {
   "cell_type": "code",
   "execution_count": 4,
   "id": "019dae28-3f1a-412d-90ae-e782cfeeb8d1",
   "metadata": {},
   "outputs": [
    {
     "name": "stdout",
     "output_type": "stream",
     "text": [
      "Upper case\n",
      "Mean 349.48 Median 229.0\n",
      "Mixed case\n",
      "Mean 359.81 Median 281.0\n",
      "Without video with most views\n",
      "Upper case\n",
      "Mean 316.32 Median 214.0\n",
      "Mixed case\n",
      "Mean 305.28 Median 268.5\n"
     ]
    }
   ],
   "source": [
    "print(\"Upper case\")\n",
    "print(\"Mean\",np.round(np.mean(uppercase_only_views),2),\"Median\",np.round(np.median(uppercase_only_views),2))\n",
    "print(\"Mixed case\")\n",
    "print(\"Mean\",np.round(np.mean(mixed_case_views),2),\"Median\",np.round(np.median(mixed_case_views),2))\n",
    "\n",
    "print(\"Without video with most views\")\n",
    "# Videos are ordered by number of views, so we can just remove the first\n",
    "print(\"Upper case\")\n",
    "print(\"Mean\",np.round(np.mean(uppercase_only_views[1:]),2),\"Median\",np.round(np.median(uppercase_only_views[1:]),2))\n",
    "print(\"Mixed case\")\n",
    "print(\"Mean\",np.round(np.mean(mixed_case_views[1:]),2),\"Median\",np.round(np.median(mixed_case_views[1:]),2))"
   ]
  },
  {
   "cell_type": "code",
   "execution_count": 5,
   "id": "66ec9335-10ea-4264-95e0-dcfd68fb0182",
   "metadata": {},
   "outputs": [
    {
     "data": {
      "image/png": "[encoded data removed]",
      "text/plain": [
       "<Figure size 900x300 with 1 Axes>"
      ]
     },
     "metadata": {},
     "output_type": "display_data"
    }
   ],
   "source": [
    "bins = np.linspace(0,3600,50)\n",
    "plt.figure(figsize=(9,3))\n",
    "plt.xticks(fontsize=font_size_ticks) \n",
    "plt.yticks(fontsize=font_size_ticks)\n",
    "plt.hist(uppercase_only_views,bins=bins,\n",
    "         color='royalblue', edgecolor='darkblue',\n",
    "          linewidth=2,density=False,label=\"Upper case\")\n",
    "plt.hist(mixed_case_views,bins=bins,\n",
    "         color='salmon', edgecolor='darkred',alpha=0.75,\n",
    "          linewidth=2,density=False,label=\"Mixed case\")\n",
    "plt.xlabel(\"Views\",fontsize=font_size,labelpad=10)\n",
    "plt.ylabel(\"Count\",fontsize=font_size,labelpad=0)\n",
    "plt.xlim([0,3550])\n",
    "plt.legend(fontsize=font_size,loc=\"upper right\");"
   ]
  },
  {
   "cell_type": "code",
   "execution_count": null,
   "id": "312a7997-c257-48d7-ab78-ca4269c47525",
   "metadata": {},
   "outputs": [
    {
     "name": "stdout",
     "output_type": "stream",
     "text": [
      "Iteration 0 Time 0.0\n",
      "Iteration 100000 Time 4.3\n",
      "Iteration 200000 Time 8.66\n",
      "Iteration 300000 Time 13.02\n",
      "Iteration 400000 Time 17.28\n",
      "Iteration 500000 Time 21.55\n"
     ]
    }
   ],
   "source": [
    "# Permutation test to evaluate absolute difference between medians\n",
    "m = int(1e6)\n",
    "n_upper = len(uppercase_only_views)\n",
    "n_mixed = len(mixed_case_views)\n",
    "views_copy = np.copy(all_views)\n",
    "\n",
    "test_statistic_samples = np.zeros(m)\n",
    "median_1 = np.zeros(m)\n",
    "median_2 = np.zeros(m)\n",
    "start = time.time()\n",
    "for ind in range(m):\n",
    "    random.shuffle(views_copy)\n",
    "    test_statistic_samples[ind] = np.abs(np.median(views_copy[:n_upper])-np.median(views_copy[n_upper:]))\n",
    "    if np.mod(ind,1e5)==0:\n",
    "        end = time.time()\n",
    "        print(\"Iteration\", ind,\"Time\",np.round(end - start,2))"
   ]
  },
  {
   "cell_type": "code",
   "execution_count": null,
   "id": "7bad90ac-702b-4b8b-baa0-27dbcb6593ba",
   "metadata": {},
   "outputs": [],
   "source": [
    "# P value computation\n",
    "t_data = np.abs(np.median(uppercase_only_views) - np.median(mixed_case_views))\n",
    "print(\"t_data\",t_data)\n",
    "vals, counts = np.unique(test_statistic_samples, return_counts=True)\n",
    "prob = counts/len(test_statistic_samples)\n",
    "p_value = np.round(np.sum(prob[vals >= t_data]),3)\n",
    "print(\"P value: \",p_value)\n",
    "\n",
    "# P value visualization\n",
    "ymin = 0\n",
    "ymax = 0.018\n",
    "\n",
    "bins = np.arange(0, 221, 13)\n",
    "\n",
    "# Compute histogram manually\n",
    "hist, bin_edges = np.histogram(test_statistic_samples, bins=bins, density=True)\n",
    "bin_centers = 0.5 * (bin_edges[:-1] + bin_edges[1:])\n",
    "\n",
    "plt.figure(figsize=(8, 4))\n",
    "plt.xticks(fontsize=font_size_ticks)\n",
    "plt.yticks(np.arange(0, 0.02, 0.005),fontsize=font_size_ticks)\n",
    "\n",
    "# Plot each bar with color depending on whether it's left or right of t_data\n",
    "for i in range(len(hist)):\n",
    "    left = bin_edges[i]\n",
    "    right = bin_edges[i + 1]\n",
    "    color = 'lightpink' if right <= t_data else 'purple'\n",
    "    if i == len(hist)-1:\n",
    "        plt.bar(left, hist[i], width=right - left, align='edge',\n",
    "            color=color, edgecolor='black', linewidth=2,label=\"P value = \"+str(p_value))\n",
    "    else:\n",
    "        plt.bar(left, hist[i], width=right - left, align='edge',\n",
    "            color=color, edgecolor='black', linewidth=2)\n",
    "\n",
    "plt.xlabel(\"Test statistic\", fontsize=font_size, labelpad=20)\n",
    "plt.ylabel(\"Density\", fontsize=font_size, labelpad=20)\n",
    "plt.ylim([ymin, ymax])\n",
    "plt.xlim([0, 220])\n",
    "plt.vlines(t_data, ymin, ymax, linewidth=3, ls=\"--\", color=\"black\", label=\"Observed test statistic\")\n",
    "plt.legend(fontsize=font_size);"
   ]
  },
  {
   "cell_type": "code",
   "execution_count": null,
   "id": "75083ecf-a8c6-4c76-b0f1-897ff0a47e20",
   "metadata": {},
   "outputs": [],
   "source": []
  }
 ],
 "metadata": {
  "kernelspec": {
   "display_name": "Python 3 (ipykernel)",
   "language": "python",
   "name": "python3"
  },
  "language_info": {
   "codemirror_mode": {
    "name": "ipython",
    "version": 3
   },
   "file_extension": ".py",
   "mimetype": "text/x-python",
   "name": "python",
   "nbconvert_exporter": "python",
   "pygments_lexer": "ipython3",
   "version": "3.11.9"
  }
 },
 "nbformat": 4,
 "nbformat_minor": 5
}
