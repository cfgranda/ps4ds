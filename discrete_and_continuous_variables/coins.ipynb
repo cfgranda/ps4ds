{
 "cells": [
  {
   "cell_type": "markdown",
   "id": "fad22d8d-535f-480b-bc4d-ca5670396a05",
   "metadata": {},
   "source": [
    "Material for the book [Probability and Statistics for Data Science](https://a.co/d/cAss9mO). A free preprint, videos, code, slides and solutions to exercises are available at https://www.ps4ds.net/\n",
    "\n",
    "Code for the video on How To Learn Probability and Statistics for Data Science \n",
    "\n",
    "Topics and relevant videos: [Monte Carlo simulations](https://www.youtube.com/watch?v=vIY_J85hHdw), [joint distribution of discrete and continuous variables](https://www.youtube.com/watch?v=DQxf2t_OM-8) \n",
    "\n",
    "Author: Carlos Fernandez-Granda"
   ]
  },
  {
   "cell_type": "code",
   "execution_count": 2,
   "id": "5bbfa988-cc91-46c5-91aa-b9fc474cd66f",
   "metadata": {},
   "outputs": [],
   "source": [
    "from numpy.random import default_rng\n",
    "import numpy as np"
   ]
  },
  {
   "cell_type": "code",
   "execution_count": 4,
   "id": "53efdfe3-6d69-4c9c-8580-b19fb8811772",
   "metadata": {},
   "outputs": [
    {
     "name": "stdout",
     "output_type": "stream",
     "text": [
      "Conditional probability:  0.66751\n"
     ]
    }
   ],
   "source": [
    "rng = default_rng()\n",
    "\n",
    "n = 1000000\n",
    "n_head_1 = 0\n",
    "n_head_2_head_1 = 0\n",
    "\n",
    "for ind in range(n):\n",
    "    # Generate parameter representing probability of heads\n",
    "    theta = rng.uniform(0,1)\n",
    "    # Generate first coin flip\n",
    "    c_1 = rng.binomial(1,theta)\n",
    "    if c_1 == 1:\n",
    "        # If first coin flip is heads, generate second coin flip\n",
    "        n_head_1 += 1\n",
    "        c_2 = rng.binomial(1,theta)\n",
    "        if c_2 == 1:\n",
    "            n_head_2_head_1 += 1\n",
    "# Monte Carlo estimation\n",
    "p_head_2_head_1 = n_head_2_head_1 / n_head_1\n",
    "print('Conditional probability: ', np.round(p_head_2_head_1,5))"
   ]
  }
 ],
 "metadata": {
  "kernelspec": {
   "display_name": "Python 3 (ipykernel)",
   "language": "python",
   "name": "python3"
  },
  "language_info": {
   "codemirror_mode": {
    "name": "ipython",
    "version": 3
   },
   "file_extension": ".py",
   "mimetype": "text/x-python",
   "name": "python",
   "nbconvert_exporter": "python",
   "pygments_lexer": "ipython3",
   "version": "3.11.9"
  }
 },
 "nbformat": 4,
 "nbformat_minor": 5
}
